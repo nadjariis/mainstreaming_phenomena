{
 "cells": [
  {
   "cell_type": "code",
   "execution_count": 1,
   "id": "assured-winning",
   "metadata": {},
   "outputs": [
    {
     "name": "stderr",
     "output_type": "stream",
     "text": [
      "/home2/s153445/.conda/envs/thesis/lib/python3.8/site-packages/tslearn/bases/bases.py:15: UserWarning: h5py not installed, hdf5 features will not be supported.\n",
      "Install h5py to use hdf5 features: http://docs.h5py.org/\n",
      "  warn(h5py_msg)\n"
     ]
    }
   ],
   "source": [
    "import pyspark\n",
    "from pyspark import SparkConf, SparkContext\n",
    "from pyspark.sql import *\n",
    "from pyspark.sql.functions import *\n",
    "from pyspark.sql import functions as F\n",
    "from pyspark.sql.types import StructType, StructField, IntegerType, StringType, FloatType, BooleanType, DoubleType, ArrayType\n",
    "from pyspark.sql.functions import udf\n",
    "from pyspark.ml.linalg import Vectors, VectorUDT\n",
    "from pyspark.ml.feature import VectorAssembler\n",
    "\n",
    "from tslearn.preprocessing import TimeSeriesScalerMeanVariance"
   ]
  },
  {
   "cell_type": "code",
   "execution_count": 2,
   "id": "hollow-values",
   "metadata": {},
   "outputs": [],
   "source": [
    "import string\n",
    "import matplotlib.pyplot as plt\n",
    "import pandas as pd\n",
    "import numpy as np\n",
    "import ruptures as rpt\n",
    "from collections import Counter\n",
    "\n",
    "from wordcloud import WordCloud"
   ]
  },
  {
   "cell_type": "code",
   "execution_count": 3,
   "id": "paperback-gazette",
   "metadata": {},
   "outputs": [],
   "source": [
    "import bayesian_changepoint_detection.online_changepoint_detection as oncd\n",
    "from functools import partial\n",
    "import matplotlib.cm as cm"
   ]
  },
  {
   "cell_type": "code",
   "execution_count": 4,
   "id": "occasional-naples",
   "metadata": {},
   "outputs": [],
   "source": [
    "from pyspark.sql import SparkSession\n",
    "\n",
    "spark = SparkSession.builder \\\n",
    "    .master('local[18]') \\\n",
    "    .config(\"spark.driver.memory\", \"15g\") \\\n",
    "    .config(\"spark.sql.repl.eagerEval.enabled\", True) \\\n",
    "    .getOrCreate()"
   ]
  },
  {
   "cell_type": "code",
   "execution_count": 5,
   "id": "superb-tyler",
   "metadata": {},
   "outputs": [],
   "source": [
    "schema = StructType([\n",
    "    StructField(\"bigram\", StringType(), True),\n",
    "    StructField(\"year\", IntegerType(), True),\n",
    "    StructField(\"bigram_percent\", DoubleType(), True),\n",
    "    StructField(\"medianA\", DoubleType(), True),\n",
    "    StructField(\"ntileA\", IntegerType(), True),\n",
    "    StructField(\"medianB\", DoubleType(), True),\n",
    "    StructField(\"ntileB\", IntegerType(), True),\n",
    "    StructField(\"label\", IntegerType(), True),\n",
    "    StructField(\"start_of_mainstreaming\", IntegerType(), True),\n",
    "    StructField(\"end_of_mainstreaming\", IntegerType(), True),\n",
    "    StructField(\"peak_year\", IntegerType(), True),\n",
    "    StructField(\"random_year\", DoubleType(), True)])"
   ]
  },
  {
   "cell_type": "code",
   "execution_count": 6,
   "id": "whole-trash",
   "metadata": {},
   "outputs": [],
   "source": [
    "df = spark.read.option('header', False).schema(schema).csv('/data/shared1/cleandata/classify_set_newer')"
   ]
  },
  {
   "cell_type": "code",
   "execution_count": 9,
   "id": "suitable-uzbekistan",
   "metadata": {
    "scrolled": true
   },
   "outputs": [],
   "source": [
    "df = df.drop('medianA', 'medianB', 'start_of_mainstreaming', 'mainstreaming_year', 'end_of_mainstreaming', 'random_year')"
   ]
  },
  {
   "cell_type": "code",
   "execution_count": 10,
   "id": "major-haiti",
   "metadata": {},
   "outputs": [
    {
     "data": {
      "text/plain": [
       "78744"
      ]
     },
     "execution_count": 10,
     "metadata": {},
     "output_type": "execute_result"
    }
   ],
   "source": [
    "df.select('bigram').distinct().count()"
   ]
  },
  {
   "cell_type": "markdown",
   "id": "canadian-investor",
   "metadata": {},
   "source": [
    "### Prepare data"
   ]
  },
  {
   "cell_type": "code",
   "execution_count": 10,
   "id": "external-integer",
   "metadata": {},
   "outputs": [],
   "source": [
    "# collect data to an np array\n",
    "dfgrouped = df.groupBy('bigram').agg(collect_list('bigram_percent').alias('percentages'),\n",
    "                            collect_list('ntileB').alias('ntiles'))\n",
    "\n",
    "signal = np.array(dfgrouped.select('percentages').collect())\n",
    "bigrams = np.array(dfgrouped.select('bigram').collect())\n",
    "\n",
    "signal_flat = np.zeros((len(signal), 120))\n",
    "bigrams_flat = []\n",
    "\n",
    "for i in range(len(signal)):\n",
    "    signal_flat[i] = signal[i][0]\n",
    "    bigrams_flat.append(bigrams[i][0])"
   ]
  },
  {
   "cell_type": "code",
   "execution_count": 11,
   "id": "enclosed-tender",
   "metadata": {},
   "outputs": [],
   "source": [
    "# Normalize\n",
    "from sklearn.preprocessing import MinMaxScaler, StandardScaler\n",
    "\n",
    "Xtranspose = np.transpose(signal_flat)\n",
    "\n",
    "scaler = MinMaxScaler()\n",
    "X_normalized = scaler.fit_transform(Xtranspose)\n",
    "Xt = np.transpose(X_normalized)"
   ]
  },
  {
   "cell_type": "markdown",
   "id": "structured-dancing",
   "metadata": {},
   "source": [
    "###  Online changepoint detection example"
   ]
  },
  {
   "cell_type": "code",
   "execution_count": 12,
   "id": "minute-bottom",
   "metadata": {},
   "outputs": [],
   "source": [
    "R, maxes = oncd.online_changepoint_detection(Xt[0], partial(oncd.constant_hazard, 250), oncd.StudentT(0.1, .01, 1, 0))"
   ]
  },
  {
   "cell_type": "code",
   "execution_count": 13,
   "id": "consistent-supervisor",
   "metadata": {},
   "outputs": [
    {
     "data": {
      "text/plain": [
       "'a_noun lot_noun'"
      ]
     },
     "execution_count": 13,
     "metadata": {},
     "output_type": "execute_result"
    }
   ],
   "source": [
    "bigrams_flat[0]"
   ]
  },
  {
   "cell_type": "code",
   "execution_count": 14,
   "id": "brave-forwarding",
   "metadata": {},
   "outputs": [
    {
     "name": "stderr",
     "output_type": "stream",
     "text": [
      "<ipython-input-14-a8c56bed2e37>:2: RuntimeWarning: divide by zero encountered in log\n",
      "  C = -np.log(R[0:-1:sparsity, 0:-1:sparsity])\n"
     ]
    }
   ],
   "source": [
    "sparsity = 3 # only plot every third data for faster display\n",
    "C = -np.log(R[0:-1:sparsity, 0:-1:sparsity])\n",
    "for c in C:\n",
    "    for i in range(0, len(c)):\n",
    "        if str(c[i]) == 'inf':\n",
    "            c[i] = 100"
   ]
  },
  {
   "cell_type": "code",
   "execution_count": 15,
   "id": "dominican-seventh",
   "metadata": {},
   "outputs": [
    {
     "data": {
      "text/plain": [
       "[<matplotlib.lines.Line2D at 0x7f9ebc897d30>]"
      ]
     },
     "execution_count": 15,
     "metadata": {},
     "output_type": "execute_result"
    },
    {
     "data": {
      "image/png": "[encoded data removed]",
      "text/plain": [
       "<Figure size 1296x1152 with 3 Axes>"
      ]
     },
     "metadata": {
      "needs_background": "light"
     },
     "output_type": "display_data"
    }
   ],
   "source": [
    "fig, ax = plt.subplots(figsize=[18, 16])\n",
    "ax = plt.subplot(3, 1, 1)\n",
    "ax.plot(Xt[0])\n",
    "ax = plt.subplot(3, 1, 2, sharex=ax)\n",
    "ax.pcolor(np.array(range(0, len(R[:,0]), sparsity)), \n",
    "          np.array(range(0, len(R[:,0]), sparsity)), \n",
    "          C, \n",
    "          cmap=cm.Greys, vmin=0, vmax=30)\n",
    "ax = plt.subplot(3, 1, 3, sharex=ax)\n",
    "Nw = 3\n",
    "ax.plot(R[Nw,Nw:-1])"
   ]
  },
  {
   "cell_type": "markdown",
   "id": "tender-friday",
   "metadata": {},
   "source": [
    "### Online changepoint detection for all data "
   ]
  },
  {
   "cell_type": "code",
   "execution_count": 12,
   "id": "cross-assistant",
   "metadata": {},
   "outputs": [],
   "source": [
    "# run online changepoint detection on all bigrams\n",
    "onlineDict = dict()\n",
    "for i in range(0, len(Xt)):\n",
    "    R, maxes = oncd.online_changepoint_detection(Xt[i], partial(oncd.constant_hazard, 250), \n",
    "                                                 oncd.StudentT(0.1, .01, 1, 0))\n",
    "    onlineDict[bigrams_flat[i]] = R"
   ]
  },
  {
   "cell_type": "code",
   "execution_count": 54,
   "id": "empty-director",
   "metadata": {},
   "outputs": [
    {
     "data": {
      "text/plain": [
       "[<matplotlib.lines.Line2D at 0x7f7b25cd14c0>]"
      ]
     },
     "execution_count": 54,
     "metadata": {},
     "output_type": "execute_result"
    },
    {
     "data": {
      "image/png": "[encoded data removed]",
      "text/plain": [
       "<Figure size 432x288 with 1 Axes>"
      ]
     },
     "metadata": {
      "needs_background": "light"
     },
     "output_type": "display_data"
    }
   ],
   "source": [
    "# Plot a bigram\n",
    "plt.plot(onlineDict['convolutional_adj layer_noun'][2, 2:-1])"
   ]
  },
  {
   "cell_type": "code",
   "execution_count": 36,
   "id": "together-karen",
   "metadata": {},
   "outputs": [],
   "source": [
    "#Nw = 3\n",
    "Nw = 2\n",
    "selected_year = range(1990, 2018)\n",
    "changepointDict = dict()\n",
    "changepointYear = dict()\n",
    "for key, val in onlineDict.items():\n",
    "    for y in selected_year:\n",
    "        if val[Nw, Nw:][y-1900] > 0.5:\n",
    "            changepointDict[key] = val[Nw, Nw:][y-1900]\n",
    "            changepointYear[key] = y"
   ]
  },
  {
   "cell_type": "code",
   "execution_count": 32,
   "id": "statutory-nirvana",
   "metadata": {},
   "outputs": [],
   "source": [
    "# make dataframe containing all bigrams that have large prob of changepoint in year 2000\n",
    "\n",
    "datalist = list(zip(list(map(str, changepointDict.keys())),\n",
    "                             list(map(float, changepointDict.values())),\n",
    "                             list(map(int, changepointYear.values()))))\n",
    "schema = StructType([\n",
    "    StructField(\"bigram\", StringType(), True),\n",
    "    StructField(\"changepoint_prob\", FloatType(), True),\n",
    "    StructField(\"changepoint_year\", IntegerType(), True)])\n",
    "\n",
    "changepointdf = spark.createDataFrame(datalist, schema)\n",
    "\n",
    "dfchangepoints = df.join(changepointdf, ['bigram'], how = 'inner')"
   ]
  },
  {
   "cell_type": "code",
   "execution_count": 33,
   "id": "further-calibration",
   "metadata": {},
   "outputs": [],
   "source": [
    "# save dataframe\n",
    "dfchangepoints.write.csv('/data/shared1/cleandata/online_changepoints_newest_14')"
   ]
  },
  {
   "cell_type": "code",
   "execution_count": 34,
   "id": "statistical-mother",
   "metadata": {},
   "outputs": [
    {
     "name": "stdout",
     "output_type": "stream",
     "text": [
      "root\n",
      " |-- bigram: string (nullable = true)\n",
      " |-- year: integer (nullable = true)\n",
      " |-- bigram_percent: double (nullable = true)\n",
      " |-- ntileA: integer (nullable = true)\n",
      " |-- ntileB: integer (nullable = true)\n",
      " |-- label: integer (nullable = true)\n",
      " |-- peak_year: integer (nullable = true)\n",
      " |-- changepoint_prob: float (nullable = true)\n",
      " |-- changepoint_year: integer (nullable = true)\n",
      "\n"
     ]
    }
   ],
   "source": [
    "dfchangepoints.printSchema()"
   ]
  },
  {
   "cell_type": "code",
   "execution_count": null,
   "id": "gorgeous-reader",
   "metadata": {},
   "outputs": [],
   "source": []
  }
 ],
 "metadata": {
  "kernelspec": {
   "display_name": "Python 3",
   "language": "python",
   "name": "python3"
  },
  "language_info": {
   "codemirror_mode": {
    "name": "ipython",
    "version": 3
   },
   "file_extension": ".py",
   "mimetype": "text/x-python",
   "name": "python",
   "nbconvert_exporter": "python",
   "pygments_lexer": "ipython3",
   "version": "3.8.6"
  }
 },
 "nbformat": 4,
 "nbformat_minor": 5
}
