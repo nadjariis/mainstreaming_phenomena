{
 "cells": [
  {
   "cell_type": "code",
   "execution_count": 1,
   "id": "authentic-language",
   "metadata": {},
   "outputs": [],
   "source": [
    "import pyspark\n",
    "from pyspark import SparkConf, SparkContext\n",
    "from pyspark.sql import *\n",
    "from pyspark.sql.functions import *\n",
    "from pyspark.sql import functions as F\n",
    "from pyspark.sql.types import StructType, StructField, IntegerType, StringType, FloatType, BooleanType"
   ]
  },
  {
   "cell_type": "code",
   "execution_count": 2,
   "id": "recognized-series",
   "metadata": {},
   "outputs": [],
   "source": [
    "import string\n",
    "import matplotlib.pyplot as plt\n",
    "import pandas as pd\n",
    "import numpy as np"
   ]
  },
  {
   "cell_type": "code",
   "execution_count": 3,
   "id": "fewer-george",
   "metadata": {},
   "outputs": [],
   "source": [
    "from pyspark.sql import SparkSession\n",
    "\n",
    "spark = SparkSession.builder \\\n",
    "    .master('local[9]') \\\n",
    "    .config(\"spark.driver.memory\", \"15g\") \\\n",
    "    .config(\"spark.sql.repl.eagerEval.enabled\", True) \\\n",
    "    .getOrCreate()"
   ]
  },
  {
   "cell_type": "code",
   "execution_count": 4,
   "id": "instant-value",
   "metadata": {},
   "outputs": [],
   "source": [
    "schema = StructType([\n",
    "    StructField(\"bigram\", StringType(), True),\n",
    "    StructField(\"year\", IntegerType(), True),\n",
    "    StructField(\"count\", IntegerType(), True),\n",
    "    StructField(\"bigram_percent\", FloatType(), True),\n",
    "    StructField(\"bigram_percent_smooth\", FloatType(), True)])"
   ]
  },
  {
   "cell_type": "code",
   "execution_count": 5,
   "id": "exterior-humidity",
   "metadata": {},
   "outputs": [],
   "source": [
    "df1 = spark.read.option('header', False).schema(schema)\\\n",
    "                     .csv('/data/shared1/cleandata/lowercase1_clean')"
   ]
  },
  {
   "cell_type": "code",
   "execution_count": 6,
   "id": "physical-geology",
   "metadata": {},
   "outputs": [],
   "source": [
    "df2 = spark.read.option('header', False).schema(schema)\\\n",
    "                     .csv('/data/shared1/cleandata/lowercase2_clean')"
   ]
  },
  {
   "cell_type": "code",
   "execution_count": 7,
   "id": "human-glass",
   "metadata": {},
   "outputs": [],
   "source": [
    "df3 = spark.read.option('header', False).schema(schema)\\\n",
    "                     .csv('/data/shared1/cleandata/uppercase_clean')"
   ]
  },
  {
   "cell_type": "code",
   "execution_count": 8,
   "id": "dried-anthropology",
   "metadata": {},
   "outputs": [],
   "source": [
    "uniondf = df1.union(df2)\n",
    "uniondf = uniondf.union(df3)"
   ]
  },
  {
   "cell_type": "code",
   "execution_count": 10,
   "id": "organizational-punch",
   "metadata": {},
   "outputs": [
    {
     "name": "stdout",
     "output_type": "stream",
     "text": [
      "+----------------------+\n",
      "|count(DISTINCT bigram)|\n",
      "+----------------------+\n",
      "|                205801|\n",
      "+----------------------+\n",
      "\n"
     ]
    }
   ],
   "source": [
    "uniondf.select(F.countDistinct('bigram')).show()"
   ]
  },
  {
   "cell_type": "code",
   "execution_count": 9,
   "id": "immune-liberty",
   "metadata": {},
   "outputs": [],
   "source": [
    "cleandf = uniondf.groupBy('bigram', 'year').agg(F.sum('count').alias('count'), \n",
    "                                                F.sum('bigram_percent').alias('bigram_percent'),\n",
    "                                                F.sum('bigram_percent_smooth').alias('bigram_percent_smooth'))\n",
    "cleandf = cleandf.sort(asc('year'))"
   ]
  },
  {
   "cell_type": "code",
   "execution_count": 10,
   "id": "located-jewelry",
   "metadata": {},
   "outputs": [],
   "source": [
    "cleandf.repartition('bigram').sortWithinPartitions('bigram', 'year').\\\n",
    "                              write.csv('/data/shared1/cleandata/clean_allfiles')"
   ]
  },
  {
   "cell_type": "code",
   "execution_count": null,
   "id": "intense-denmark",
   "metadata": {},
   "outputs": [],
   "source": []
  }
 ],
 "metadata": {
  "kernelspec": {
   "display_name": "Python 3",
   "language": "python",
   "name": "python3"
  },
  "language_info": {
   "codemirror_mode": {
    "name": "ipython",
    "version": 3
   },
   "file_extension": ".py",
   "mimetype": "text/x-python",
   "name": "python",
   "nbconvert_exporter": "python",
   "pygments_lexer": "ipython3",
   "version": "3.8.6"
  }
 },
 "nbformat": 4,
 "nbformat_minor": 5
}
