{
 "cells": [
  {
   "cell_type": "code",
   "execution_count": 1,
   "id": "geological-relationship",
   "metadata": {},
   "outputs": [],
   "source": [
    "import pyspark\n",
    "from pyspark import SparkConf, SparkContext\n",
    "from pyspark.sql import *\n",
    "from pyspark.sql.functions import *\n",
    "from pyspark.sql import functions as F\n",
    "from pyspark.sql.types import StructType, StructField, IntegerType, StringType, DoubleType\n",
    "\n",
    "import string\n",
    "import numpy as np"
   ]
  },
  {
   "cell_type": "code",
   "execution_count": 2,
   "id": "fresh-uzbekistan",
   "metadata": {},
   "outputs": [],
   "source": [
    "from pyspark.sql import SparkSession\n",
    "\n",
    "spark = SparkSession.builder \\\n",
    "    .master('local[18]') \\\n",
    "    .config(\"spark.driver.memory\", \"15g\") \\\n",
    "    .config(\"spark.sql.repl.eagerEval.enabled\", True) \\\n",
    "    .getOrCreate()"
   ]
  },
  {
   "cell_type": "markdown",
   "id": "vietnamese-criterion",
   "metadata": {},
   "source": [
    "### Load data"
   ]
  },
  {
   "cell_type": "code",
   "execution_count": 3,
   "id": "english-romance",
   "metadata": {},
   "outputs": [],
   "source": [
    "schema = StructType([\n",
    "    StructField(\"bigram\", StringType(), True),\n",
    "    StructField(\"year\", IntegerType(), True),\n",
    "    StructField(\"count\", IntegerType(), True),\n",
    "    StructField(\"bigram_percent\", DoubleType(), True),\n",
    "    StructField(\"medianA\",  DoubleType(), True),\n",
    "    StructField(\"ntileA\", IntegerType(), True),\n",
    "    StructField(\"medianB\",  DoubleType(), True),\n",
    "    StructField(\"ntileB\", IntegerType(), True),\n",
    "    StructField(\"label\", IntegerType(), True),\n",
    "    StructField(\"start_of_mainstreaming\", IntegerType(), True),\n",
    "    StructField(\"end_of_mainstreaming\", IntegerType(), True),\n",
    "    StructField(\"peak_year\", IntegerType(), True)])"
   ]
  },
  {
   "cell_type": "code",
   "execution_count": 13,
   "id": "distinguished-figure",
   "metadata": {},
   "outputs": [],
   "source": [
    "df = spark.read.option('header', False).schema(schema)\\\n",
    "                     .csv('/data/shared1/cleandata/changepoint_annotated_allntiles_newer')"
   ]
  },
  {
   "cell_type": "markdown",
   "id": "fantastic-vitamin",
   "metadata": {},
   "source": [
    "### Divide into train/test and classification dataframe"
   ]
  },
  {
   "cell_type": "code",
   "execution_count": 5,
   "id": "brilliant-suicide",
   "metadata": {},
   "outputs": [],
   "source": [
    "# generate random year for each bigram\n",
    "randomyear_df = df.groupBy('bigram').agg(F.sum('count')).alias('count_sum')\\\n",
    "                  .withColumn('random_year', (round(F.rand() * 90) + 1930))"
   ]
  },
  {
   "cell_type": "code",
   "execution_count": 6,
   "id": "rural-malpractice",
   "metadata": {},
   "outputs": [],
   "source": [
    "# add random_year column to original dataframe\n",
    "df = df.join(randomyear_df, ['bigram'], how = 'inner')"
   ]
  },
  {
   "cell_type": "code",
   "execution_count": 7,
   "id": "democratic-domain",
   "metadata": {},
   "outputs": [],
   "source": [
    "df = df.drop('count', 'sum(count)')"
   ]
  },
  {
   "cell_type": "code",
   "execution_count": 8,
   "id": "dependent-leisure",
   "metadata": {},
   "outputs": [
    {
     "name": "stdout",
     "output_type": "stream",
     "text": [
      "root\n",
      " |-- bigram: string (nullable = true)\n",
      " |-- year: integer (nullable = true)\n",
      " |-- bigram_percent: double (nullable = true)\n",
      " |-- medianA: double (nullable = true)\n",
      " |-- ntileA: integer (nullable = true)\n",
      " |-- medianB: double (nullable = true)\n",
      " |-- ntileB: integer (nullable = true)\n",
      " |-- label: integer (nullable = true)\n",
      " |-- start_of_mainstreaming: integer (nullable = true)\n",
      " |-- end_of_mainstreaming: integer (nullable = true)\n",
      " |-- peak_year: integer (nullable = true)\n",
      " |-- random_year: double (nullable = true)\n",
      "\n"
     ]
    }
   ],
   "source": [
    "df.printSchema()"
   ]
  },
  {
   "cell_type": "code",
   "execution_count": 9,
   "id": "empirical-miracle",
   "metadata": {},
   "outputs": [],
   "source": [
    "# run to get full dataset\n",
    "traintest_ngrams, classify_ngrams = df.select('bigram').distinct().randomSplit([0.8, 0.2], seed=4)\n",
    "traintest_df = df.join(traintest_ngrams, ['bigram'], how='inner')\n",
    "classify_df = df.join(classify_ngrams, ['bigram'], how='inner')"
   ]
  },
  {
   "cell_type": "code",
   "execution_count": 9,
   "id": "bigger-consultancy",
   "metadata": {},
   "outputs": [],
   "source": [
    "# run to get small dataset\n",
    "sample = df.select('bigram').distinct().sample(withReplacement=False, fraction=0.05, seed=4)\n",
    "traintest_ngrams, classify_ngrams = sample.randomSplit([0.8, 0.2], seed=4)\n",
    "traintest_df = df.join(traintest_ngrams, ['bigram'], how='inner')\n",
    "classify_df = df.join(classify_ngrams, ['bigram'], how='inner')"
   ]
  },
  {
   "cell_type": "markdown",
   "id": "popular-flexibility",
   "metadata": {},
   "source": [
    "### save dataframes"
   ]
  },
  {
   "cell_type": "code",
   "execution_count": 10,
   "id": "lyric-pursuit",
   "metadata": {},
   "outputs": [],
   "source": [
    "traintest_df.write.csv('/data/shared1/cleandata/traintest_sample_5percent')"
   ]
  },
  {
   "cell_type": "code",
   "execution_count": 11,
   "id": "polished-radio",
   "metadata": {},
   "outputs": [],
   "source": [
    "classify_df.write.csv('/data/shared1/cleandata/classify_set_newer')"
   ]
  },
  {
   "cell_type": "code",
   "execution_count": null,
   "id": "governmental-factory",
   "metadata": {},
   "outputs": [],
   "source": []
  }
 ],
 "metadata": {
  "kernelspec": {
   "display_name": "Python 3",
   "language": "python",
   "name": "python3"
  },
  "language_info": {
   "codemirror_mode": {
    "name": "ipython",
    "version": 3
   },
   "file_extension": ".py",
   "mimetype": "text/x-python",
   "name": "python",
   "nbconvert_exporter": "python",
   "pygments_lexer": "ipython3",
   "version": "3.8.6"
  }
 },
 "nbformat": 4,
 "nbformat_minor": 5
}
