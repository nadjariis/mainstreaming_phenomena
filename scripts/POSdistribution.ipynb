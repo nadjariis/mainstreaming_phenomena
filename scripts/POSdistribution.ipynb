{
 "cells": [
  {
   "cell_type": "code",
   "execution_count": 1,
   "id": "difficult-subscriber",
   "metadata": {},
   "outputs": [],
   "source": [
    "import pyspark\n",
    "from pyspark import SparkConf, SparkContext\n",
    "from pyspark.sql import *\n",
    "from pyspark.sql.functions import *\n",
    "from pyspark.sql import functions as F\n",
    "from pyspark.sql.types import StructType, StructField, IntegerType, StringType, FloatType, BooleanType"
   ]
  },
  {
   "cell_type": "code",
   "execution_count": 2,
   "id": "alternative-theta",
   "metadata": {},
   "outputs": [],
   "source": [
    "import string\n",
    "import matplotlib.pyplot as plt\n",
    "import pandas as pd\n",
    "import numpy as np"
   ]
  },
  {
   "cell_type": "code",
   "execution_count": 3,
   "id": "controlled-chrome",
   "metadata": {},
   "outputs": [],
   "source": [
    "from pyspark.sql import SparkSession\n",
    "\n",
    "spark = SparkSession.builder \\\n",
    "    .master('local[9]') \\\n",
    "    .config(\"spark.driver.memory\", \"15g\") \\\n",
    "    .config(\"spark.sql.repl.eagerEval.enabled\", True) \\\n",
    "    .getOrCreate()"
   ]
  },
  {
   "cell_type": "markdown",
   "id": "convenient-despite",
   "metadata": {},
   "source": [
    "### Load and clean data"
   ]
  },
  {
   "cell_type": "code",
   "execution_count": 4,
   "id": "elegant-motion",
   "metadata": {},
   "outputs": [],
   "source": [
    "# årets hack\n",
    "\n",
    "#df = spark.read.format(\"csv\").option(\"delimiter\",\";\").load(\"/data/shared1/bigrams/part5/2-00560-of-00589\")\n",
    "\n",
    "folders = [\"/data/shared1/bigrams/part1\", \"/data/shared1/bigrams/part2\", \"/data/shared1/bigrams/part3\",\n",
    "           \"/data/shared1/bigrams/part4\", \"/data/shared1/bigrams/part5\", \"/data/shared1/bigrams/part6\",\n",
    "           \"/data/shared1/bigrams/Part1\", \"/data/shared1/bigrams/Part2\", \"/data/shared1/bigrams/Part3\",\n",
    "           \"/data/shared1/bigrams/Part4\"]\n",
    "\n",
    "df = spark.read.format(\"csv\").option(\"delimiter\",\";\").load(folders)\n",
    "\n",
    "for i in range(0, 500):\n",
    "    df = df.withColumn('c'+str(i),split(\"_c0\",\"\\t\").getItem(i))\n",
    "    \n",
    "df = df.drop('_c0')"
   ]
  },
  {
   "cell_type": "code",
   "execution_count": 5,
   "id": "operational-sucking",
   "metadata": {},
   "outputs": [],
   "source": [
    "def to_long(df, by):\n",
    "\n",
    "    # Filter dtypes and split into column names and type description\n",
    "    cols, dtypes = zip(*((c, t) for (c, t) in df.dtypes if c not in by))\n",
    "    \n",
    "    # Spark SQL supports only homogeneous columns\n",
    "    assert len(set(dtypes)) == 1, \"All columns have to be of the same type\"\n",
    "\n",
    "    # Create and explode an array of (column_name, column_value) structs\n",
    "    kvs = explode(array([\n",
    "      struct(lit(c).alias(\"key\"), col(c).alias(\"val\")) for c in cols\n",
    "    ])).alias(\"kvs\")\n",
    "\n",
    "    return df.select(by + [kvs]).select(by + [\"kvs.key\", \"kvs.val\"])"
   ]
  },
  {
   "cell_type": "code",
   "execution_count": 6,
   "id": "anonymous-penguin",
   "metadata": {},
   "outputs": [],
   "source": [
    "def transform(df):\n",
    "    split_col = pyspark.sql.functions.split(df['val'], ',')\n",
    "    df = df.withColumn('year', split_col.getItem(0))\n",
    "    df = df.withColumn('count', split_col.getItem(1))\n",
    "    df = df.withColumn('volume', split_col.getItem(2))\n",
    "\n",
    "    df = df.withColumnRenamed('c0', 'bigram')\n",
    "    \n",
    "    split_pos = pyspark.sql.functions.split(df['bigram'], ' ')\n",
    "    df = df.withColumn('bigram1', split_pos.getItem(0))\n",
    "    df = df.withColumn('bigram2', split_pos.getItem(1))\n",
    "\n",
    "    split_bigram1 = pyspark.sql.functions.split(df['bigram1'], '_')\n",
    "    df = df.withColumn('POS1', split_bigram1.getItem(1))\n",
    "    split_bigram2 = pyspark.sql.functions.split(df['bigram2'], '_')\n",
    "    df = df.withColumn('POS2', split_bigram2.getItem(1))\n",
    "\n",
    "    df = df.withColumn('year', df['year'].cast('int'))\n",
    "    df = df.withColumn('count', df['count'].cast('int'))\n",
    "    \n",
    "    df = df.drop('val')\n",
    "    df = df.drop('key')\n",
    "    df = df.drop('bigram1', 'bigram2')\n",
    "    df = df.drop('volume')\n",
    "    \n",
    "    df = df.where(df['year'] >= 1900)\n",
    "    \n",
    "    return df"
   ]
  },
  {
   "cell_type": "code",
   "execution_count": 7,
   "id": "sorted-publication",
   "metadata": {},
   "outputs": [],
   "source": [
    "df_long = to_long(df, [\"c0\"])\n",
    "df_long = df_long.dropna()"
   ]
  },
  {
   "cell_type": "code",
   "execution_count": 8,
   "id": "distinct-discount",
   "metadata": {},
   "outputs": [],
   "source": [
    "df = transform(df_long)"
   ]
  },
  {
   "cell_type": "code",
   "execution_count": 9,
   "id": "pretty-restriction",
   "metadata": {},
   "outputs": [],
   "source": [
    "is_ascii = udf(lambda x: x.isascii(), BooleanType())\n",
    "df = df.where(is_ascii(df.bigram))\n",
    "\n",
    "df = df.where(~df.bigram.contains('_NUM'))\n",
    "df = df.where(col('POS1').isNotNull() & col('POS2').isNotNull())\n",
    "\n",
    "df = df.withColumn('bigram', lower(col('bigram')))\n",
    "\n",
    "df = df.withColumn('POS', array('POS1', 'POS2'))"
   ]
  },
  {
   "cell_type": "code",
   "execution_count": 10,
   "id": "nearby-tractor",
   "metadata": {},
   "outputs": [],
   "source": [
    "POSdf = df.groupBy('POS').agg(F.countDistinct('bigram').alias('POS_count'))"
   ]
  },
  {
   "cell_type": "markdown",
   "id": "cathedral-plymouth",
   "metadata": {},
   "source": [
    "### Convert to pandas, clean and plot"
   ]
  },
  {
   "cell_type": "code",
   "execution_count": 11,
   "id": "liberal-reunion",
   "metadata": {},
   "outputs": [],
   "source": [
    "POSdf_pd = POSdf.toPandas()"
   ]
  },
  {
   "cell_type": "code",
   "execution_count": 12,
   "id": "naval-mozambique",
   "metadata": {},
   "outputs": [],
   "source": [
    "POSdf_pd['POS'] = POSdf_pd['POS'].astype(str)"
   ]
  },
  {
   "cell_type": "code",
   "execution_count": 13,
   "id": "initial-difficulty",
   "metadata": {},
   "outputs": [],
   "source": [
    "splitpos = POSdf_pd['POS'].str.split(expand=True)\n",
    "POSdf_pd['POS1'] = splitpos[0]\n",
    "POSdf_pd['POS2'] = splitpos[1]"
   ]
  },
  {
   "cell_type": "code",
   "execution_count": 14,
   "id": "spectacular-attraction",
   "metadata": {},
   "outputs": [],
   "source": [
    "POSdf_pd['relevant_tag'] = (POSdf_pd['POS1'].str.contains('ADV|NOUN|VERB|ADJ|PRON|DET|ADP|CONJ|PRT') &\n",
    "                            POSdf_pd['POS2'].str.contains('ADV|NOUN|VERB|ADJ|PRON|DET|ADP|CONJ|PRT'))"
   ]
  },
  {
   "cell_type": "code",
   "execution_count": 15,
   "id": "attractive-danish",
   "metadata": {},
   "outputs": [],
   "source": [
    "POSdf_pd = POSdf_pd[POSdf_pd['relevant_tag']]\n",
    "POSdf_pd = POSdf_pd.drop(['relevant_tag', 'POS1', 'POS2'], 1)"
   ]
  },
  {
   "cell_type": "code",
   "execution_count": 16,
   "id": "lyric-steering",
   "metadata": {},
   "outputs": [],
   "source": [
    "POSdf_pd['percent'] = (POSdf_pd['POS_count']/POSdf_pd['POS_count'].sum()) * 100\n",
    "POSdf_pd = POSdf_pd.sort_values('percent',ascending=False)"
   ]
  },
  {
   "cell_type": "code",
   "execution_count": 17,
   "id": "tested-orlando",
   "metadata": {},
   "outputs": [],
   "source": [
    "plotdf = POSdf_pd\n",
    "plotdf = plotdf[plotdf.percent >= 0.1]"
   ]
  },
  {
   "cell_type": "code",
   "execution_count": 18,
   "id": "detected-training",
   "metadata": {
    "scrolled": false
   },
   "outputs": [
    {
     "data": {
      "image/png": "[encoded data removed]",
      "text/plain": [
       "<Figure size 1080x504 with 1 Axes>"
      ]
     },
     "metadata": {
      "needs_background": "light"
     },
     "output_type": "display_data"
    }
   ],
   "source": [
    "plotdf.plot(x='POS', y='percent', kind='bar',figsize=(15,7),color = '#8c96c6')\n",
    "plt.xlabel(\"POS tag\", fontsize = 13)\n",
    "plt.ylabel(\"Percent of all POS tagged bigrams\", fontsize = 13)\n",
    "plt.title(\"Distribution of part-of-speech tags for bigrams\", fontsize = 16)\n",
    "plt.tick_params(labelsize=12);\n",
    "plt.xticks(\n",
    "    rotation=90,\n",
    "    horizontalalignment='right',\n",
    "    fontsize='medium',\n",
    ")\n",
    "plt.show()"
   ]
  },
  {
   "cell_type": "code",
   "execution_count": null,
   "id": "reserved-dairy",
   "metadata": {},
   "outputs": [],
   "source": []
  }
 ],
 "metadata": {
  "kernelspec": {
   "display_name": "Python 3",
   "language": "python",
   "name": "python3"
  },
  "language_info": {
   "codemirror_mode": {
    "name": "ipython",
    "version": 3
   },
   "file_extension": ".py",
   "mimetype": "text/x-python",
   "name": "python",
   "nbconvert_exporter": "python",
   "pygments_lexer": "ipython3",
   "version": "3.8.6"
  }
 },
 "nbformat": 4,
 "nbformat_minor": 5
}
